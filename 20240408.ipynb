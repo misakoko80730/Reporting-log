{
  "nbformat": 4,
  "nbformat_minor": 0,
  "metadata": {
    "colab": {
      "provenance": [],
      "authorship_tag": "ABX9TyPm569bEoUhWv407fY0H0ys",
      "include_colab_link": true
    },
    "kernelspec": {
      "name": "python3",
      "display_name": "Python 3"
    },
    "language_info": {
      "name": "python"
    }
  },
  "cells": [
    {
      "cell_type": "markdown",
      "metadata": {
        "id": "view-in-github",
        "colab_type": "text"
      },
      "source": [
        "<a href=\"https://colab.research.google.com/github/misakoko80730/Reporting-log/blob/main/20240408.ipynb\" target=\"_parent\"><img src=\"https://colab.research.google.com/assets/colab-badge.svg\" alt=\"Open In Colab\"/></a>"
      ]
    },
    {
      "cell_type": "code",
      "execution_count": null,
      "metadata": {
        "colab": {
          "base_uri": "https://localhost:8080/"
        },
        "id": "u43F016QFHf5",
        "outputId": "83535816-c8ab-45d8-a579-ce46d1ee31e3"
      },
      "outputs": [
        {
          "output_type": "stream",
          "name": "stdout",
          "text": [
            "2\n"
          ]
        }
      ],
      "source": [
        "print(1+1)\n"
      ]
    },
    {
      "cell_type": "code",
      "source": [
        "age = 18 # 年齢\n",
        "\n",
        "if age < 20:\n",
        "    # 未成年の場合\n",
        "    print(\"ジュースで乾杯！\")\n",
        "else:\n",
        "    # 成年の場合\n",
        "    print(\"お酒で乾杯！\")\n"
      ],
      "metadata": {
        "colab": {
          "base_uri": "https://localhost:8080/"
        },
        "id": "-rafBZ2_GBjk",
        "outputId": "2c486800-77ab-4991-b1c4-1b8bbf636771"
      },
      "execution_count": null,
      "outputs": [
        {
          "output_type": "stream",
          "name": "stdout",
          "text": [
            "ジュースで乾杯！\n"
          ]
        }
      ]
    },
    {
      "cell_type": "code",
      "source": [
        "print(type(30 / 3))\n"
      ],
      "metadata": {
        "colab": {
          "base_uri": "https://localhost:8080/"
        },
        "id": "9U8rGf41SUA1",
        "outputId": "7a5ec0d1-919a-4190-ae23-54b47f5e1d4e"
      },
      "execution_count": null,
      "outputs": [
        {
          "output_type": "stream",
          "name": "stdout",
          "text": [
            "<class 'float'>\n"
          ]
        }
      ]
    },
    {
      "cell_type": "code",
      "source": [
        "print(\"降水確率\" + str(50) + \"％\" )\n"
      ],
      "metadata": {
        "colab": {
          "base_uri": "https://localhost:8080/"
        },
        "id": "r7fy79exSjzg",
        "outputId": "4da78f84-f68f-4f0d-f00c-8fabf76baa5d"
      },
      "execution_count": null,
      "outputs": [
        {
          "output_type": "stream",
          "name": "stdout",
          "text": [
            "降水確率50％\n"
          ]
        }
      ]
    },
    {
      "cell_type": "code",
      "source": [
        "print(\"晴れ\" * 5)\n",
        "print(\"晴れ\" + \"晴れ\" + \"晴れ\" + \"晴れ\" + \"晴れ\")\n"
      ],
      "metadata": {
        "colab": {
          "base_uri": "https://localhost:8080/"
        },
        "id": "sbHFXcuZSs9e",
        "outputId": "d73e13ef-1980-480d-ebee-f7be0d0534cb"
      },
      "execution_count": null,
      "outputs": [
        {
          "output_type": "stream",
          "name": "stdout",
          "text": [
            "晴れ晴れ晴れ晴れ晴れ\n",
            "晴れ晴れ晴れ晴れ晴れ\n"
          ]
        }
      ]
    },
    {
      "cell_type": "code",
      "source": [
        "user_name = \"侍太郎\"\n",
        "print(user_name)\n",
        "\n",
        "user_name = \"侍花子\"\n",
        "print(user_name)"
      ],
      "metadata": {
        "colab": {
          "base_uri": "https://localhost:8080/"
        },
        "id": "eEl0a6WMTJeD",
        "outputId": "0d9e7361-e1ea-46b4-bbbd-b7687df02747"
      },
      "execution_count": null,
      "outputs": [
        {
          "output_type": "stream",
          "name": "stdout",
          "text": [
            "侍太郎\n",
            "侍花子\n"
          ]
        }
      ]
    },
    {
      "cell_type": "code",
      "source": [
        "last_name   = \"侍\"\n",
        "first_name  = \"太郎\"\n",
        "sister_name = \"花子\"\n",
        "\n",
        "# 3つの変数を文字列内に埋め込んで表示\n",
        "#f\"文字列{変数名1}文字列{変数名2}文字列{変数名3}......\"\n",
        "print(f\"私の名前は{last_name}{first_name}です。妹の名前は{sister_name}です。\")\n"
      ],
      "metadata": {
        "colab": {
          "base_uri": "https://localhost:8080/"
        },
        "id": "M5U3BetsTXfQ",
        "outputId": "0b6590db-f820-4e29-d348-d53e65864794"
      },
      "execution_count": null,
      "outputs": [
        {
          "output_type": "stream",
          "name": "stdout",
          "text": [
            "私の名前は侍太郎です。妹の名前は花子です。\n"
          ]
        }
      ]
    },
    {
      "cell_type": "code",
      "source": [
        "user_names = [\"侍太郎\", \"侍一郎\", \"侍二郎\", \"侍三郎\", \"侍四郎\"]\n",
        "\n",
        "# 2番目の要素である「侍一郎」という文字列だけを取り出して表示する\n",
        "print(user_names[0])"
      ],
      "metadata": {
        "colab": {
          "base_uri": "https://localhost:8080/"
        },
        "id": "KAmm8pRxVa0b",
        "outputId": "d1e725fa-d4bd-49c8-caef-7beb6d2b5946"
      },
      "execution_count": null,
      "outputs": [
        {
          "output_type": "stream",
          "name": "stdout",
          "text": [
            "侍太郎\n"
          ]
        }
      ]
    },
    {
      "cell_type": "code",
      "source": [
        "user_names = [\"侍太郎\", \"侍一郎\", \"侍二郎\", \"侍三郎\", \"侍四郎\"]\n",
        "\n",
        "# 6番目の要素を追加する\n",
        "user_names.append(\"侍五郎\")\n",
        "print(user_names)\n",
        "\n",
        "# 3番目の要素を削除する\n",
        "user_names.pop(2) # 0始まりのため、3番目のインデックスは2\n",
        "print(user_names)"
      ],
      "metadata": {
        "colab": {
          "base_uri": "https://localhost:8080/"
        },
        "id": "pTfD-C2xV6Ir",
        "outputId": "04ee7416-c151-4fae-e062-d05c6dd5301e"
      },
      "execution_count": null,
      "outputs": [
        {
          "output_type": "stream",
          "name": "stdout",
          "text": [
            "['侍太郎', '侍一郎', '侍二郎', '侍三郎', '侍四郎', '侍五郎']\n",
            "['侍太郎', '侍一郎', '侍三郎', '侍四郎', '侍五郎']\n"
          ]
        }
      ]
    },
    {
      "cell_type": "code",
      "source": [
        "user_names = [\"侍太郎\", \"侍一郎\", \"侍二郎\", \"侍三郎\", \"侍四郎\"]\n",
        "\n",
        "print(user_names[1]) # 2番目の要素だけを表示\n",
        "\n",
        "user_names[1] = \"侍花子\" # 2番目の要素を更新\n",
        "print(user_names)\n",
        "\n",
        "user_names.append(\"侍五郎\") # 6番目の要素を追加\n",
        "print(user_names)\n",
        "\n",
        "user_names.pop(2) # 3番目の要素を削除（0始まりのため2を指定）\n",
        "print(user_names)"
      ],
      "metadata": {
        "colab": {
          "base_uri": "https://localhost:8080/"
        },
        "id": "skOdliPzWCsG",
        "outputId": "6278fe5b-ba85-43ff-ea4b-c25491897d31"
      },
      "execution_count": null,
      "outputs": [
        {
          "output_type": "stream",
          "name": "stdout",
          "text": [
            "侍一郎\n",
            "['侍太郎', '侍花子', '侍二郎', '侍三郎', '侍四郎']\n",
            "['侍太郎', '侍花子', '侍二郎', '侍三郎', '侍四郎', '侍五郎']\n",
            "['侍太郎', '侍花子', '侍三郎', '侍四郎', '侍五郎']\n"
          ]
        }
      ]
    },
    {
      "cell_type": "code",
      "source": [
        "country_names = (\"日本\", \"アメリカ\", \"イギリス\", \"フランス\" )\n",
        "\n",
        "# 3番目の要素を取り出す\n",
        "print(country_names[2])\n",
        "\n",
        "# すべての要素を取り出す\n",
        "print(country_names)"
      ],
      "metadata": {
        "colab": {
          "base_uri": "https://localhost:8080/"
        },
        "id": "ZB2Qt-wJklZq",
        "outputId": "2d1055e5-bc1f-4022-a83e-9c0cd12871e2"
      },
      "execution_count": null,
      "outputs": [
        {
          "output_type": "stream",
          "name": "stdout",
          "text": [
            "イギリス\n",
            "('日本', 'アメリカ', 'イギリス', 'フランス')\n"
          ]
        }
      ]
    },
    {
      "cell_type": "code",
      "source": [
        "# 1～10までに含まれる素数のセット（2と5が重複）\n",
        "prime_numbers = {2, 5, 2, 7, 3, 5, 5 }\n",
        "\n",
        "# セット全体を表示\n",
        "print(prime_numbers)"
      ],
      "metadata": {
        "colab": {
          "base_uri": "https://localhost:8080/"
        },
        "id": "OXhEmjcYmS8y",
        "outputId": "ebcf9baa-699f-44aa-ae10-421b06fd714e"
      },
      "execution_count": null,
      "outputs": [
        {
          "output_type": "stream",
          "name": "stdout",
          "text": [
            "{2, 3, 5, 7}\n"
          ]
        }
      ]
    },
    {
      "cell_type": "markdown",
      "source": [],
      "metadata": {
        "id": "1U493__nVai1"
      }
    },
    {
      "cell_type": "code",
      "source": [
        "country_names = {\"アメリカ\", \"イギリス\", \"日本\", \"フランス\"}\n",
        "\n",
        "# セット全体を表示\n",
        "print(country_names)\n",
        "\n",
        "country_names.add(\"ドイツ\") # 「ドイツ」をセットに追加\n",
        "print(country_names)\n",
        "\n",
        "country_names.remove(\"イギリス\") # セットから「イギリス」を削除\n",
        "print(country_names)"
      ],
      "metadata": {
        "colab": {
          "base_uri": "https://localhost:8080/"
        },
        "id": "LQhy10rUnFKr",
        "outputId": "852c6800-e86c-440e-f992-3a609d058474"
      },
      "execution_count": null,
      "outputs": [
        {
          "output_type": "stream",
          "name": "stdout",
          "text": [
            "{'アメリカ', 'イギリス', '日本', 'フランス'}\n",
            "{'イギリス', 'ドイツ', '日本', 'アメリカ', 'フランス'}\n",
            "{'ドイツ', '日本', 'アメリカ', 'フランス'}\n"
          ]
        }
      ]
    },
    {
      "cell_type": "code",
      "source": [
        "stationery_prices = {\"鉛筆\": 70, \"ボールペン\": 120, \"シャープペンシル\": 150, \"消しゴム\": 90}\n",
        "\n",
        "# ボールペンの価格を取り出して表示\n",
        "print(stationery_prices[\"ボールペン\"])"
      ],
      "metadata": {
        "colab": {
          "base_uri": "https://localhost:8080/"
        },
        "id": "eAXkmSTbuepT",
        "outputId": "04654dab-8220-402d-e0bc-95b484bcff8a"
      },
      "execution_count": null,
      "outputs": [
        {
          "output_type": "stream",
          "name": "stdout",
          "text": [
            "120\n"
          ]
        }
      ]
    },
    {
      "cell_type": "code",
      "source": [
        "# キー「2」が重複している\n",
        "sports = {1: \"サッカー\", 2: \"野球\", 2: \"バドミントン\", 3: \"バスケット\"}\n",
        "print(sports[2])"
      ],
      "metadata": {
        "colab": {
          "base_uri": "https://localhost:8080/"
        },
        "id": "7acWHFW_ulWW",
        "outputId": "bc05de36-fa05-476c-84ea-709acd5b0afe"
      },
      "execution_count": null,
      "outputs": [
        {
          "output_type": "stream",
          "name": "stdout",
          "text": [
            "バドミントン\n"
          ]
        }
      ]
    },
    {
      "cell_type": "code",
      "source": [
        "sports = {1: \"サッカー\", 2: \"野球\", 3: \"バスケット\"}\n",
        "\n",
        "# キー「2」の値を「バドミントン」に書き換える\n",
        "sports[2] = \"バドミントン\"\n",
        "\n",
        "# キー「4」として「水泳」を追加する\n",
        "sports[4] = \"水泳\"\n",
        "\n",
        "# 連想配列全体を取り出して表示\n",
        "print(sports)"
      ],
      "metadata": {
        "id": "nauVgML-u5Z7"
      },
      "execution_count": null,
      "outputs": []
    },
    {
      "cell_type": "code",
      "source": [
        "length_height={\"上辺\":10,\"下辺\":20,\"高さ\":5}\n",
        "\n",
        "#公式：台形の面積 =（上辺＋下辺）× 高さ ÷ 2\n",
        "print(str((length_height[\"上辺\"] + length_height[\"下辺\"]) * length_height[\"高さ\"] / 2) + \"cm²\")\n",
        "\n"
      ],
      "metadata": {
        "colab": {
          "base_uri": "https://localhost:8080/"
        },
        "id": "RReCiC73PBU_",
        "outputId": "c11eab77-d45f-41e2-dba1-508299fbada0"
      },
      "execution_count": null,
      "outputs": [
        {
          "output_type": "stream",
          "name": "stdout",
          "text": [
            "75.0cm²\n"
          ]
        }
      ]
    },
    {
      "cell_type": "code",
      "source": [
        "for ループ変数 in 反復可能オブジェクト:\n",
        "    ブロック（繰り返し行いたい処理）"
      ],
      "metadata": {
        "id": "ygwYPA1KRKT7"
      },
      "execution_count": null,
      "outputs": []
    },
    {
      "cell_type": "code",
      "source": [
        "range(終了数)\n",
        "range(開始数, 終了数)\n",
        "range(開始数, 終了数, ステップ)"
      ],
      "metadata": {
        "id": "-EMCAwDTRMCu"
      },
      "execution_count": null,
      "outputs": []
    },
    {
      "cell_type": "code",
      "source": [
        "for i in range(1, 11):\n",
        "    print(i)"
      ],
      "metadata": {
        "id": "Yf42Qmk4RIR6"
      },
      "execution_count": null,
      "outputs": []
    },
    {
      "cell_type": "code",
      "source": [
        "#ランダムな整数を利用するため、記述が必要です。\n",
        "import random\n",
        "\n",
        "for i in range(1, 11):\n",
        "    #変数numに1~20までのランダムな整数を代入する\n",
        "    num = random.randint(1,20)\n",
        "\n",
        "    print(f\"{i}回目の結果は{num}です。\")\n",
        "\n",
        "    #変数numの値が20であれば、break文で繰り返し処理を強制終了する\n",
        "    if num == 20:\n",
        "        print(\"20が出たので繰り返し処理を強制終了します。\")\n",
        "        break"
      ],
      "metadata": {
        "id": "-T3IoVXjRGQX"
      },
      "execution_count": null,
      "outputs": []
    },
    {
      "cell_type": "code",
      "source": [
        "while 条件式:\n",
        "    条件を満たしている間、繰り返す処理\n",
        "#ランダムな整数を利用するため、記述が必要です。\n",
        "import random\n",
        "\n",
        "# 変数numに0~4までのランダムな整数を代入する\n",
        "num = random.randint(0, 4)\n",
        "\n",
        "# 変数numの最初の値を出力する（確認用）\n",
        "print(f\"最初の値は{num}です。\")\n",
        "\n",
        "# 変数numの値が0以外である間、変数numの値を出力し続ける\n",
        "while num != 0:\n",
        "    # 変数numに0~4までのランダムな整数を代入する\n",
        "    num = random.randint(0, 4)\n",
        "\n",
        "    # 次の条件式で比較される、変数numの現在の値を出力する\n",
        "    print(f\"現在の値は{num}です。\")"
      ],
      "metadata": {
        "id": "bXLQfpG7RFSQ"
      },
      "execution_count": null,
      "outputs": []
    },
    {
      "cell_type": "code",
      "source": [
        "#ランダムな整数を利用するため、記述が必要です。\n",
        "import random\n",
        "\n",
        "# 変数numに0~4までのランダムな整数を代入する\n",
        "num = random.randint(0, 4)\n",
        "\n",
        "# 変数numの値が0以外である間、変数numの値を出力し続ける\n",
        "while num != 0:\n",
        "    num = random.randint(0, 4)\n",
        "    print(num)"
      ],
      "metadata": {
        "colab": {
          "base_uri": "https://localhost:8080/"
        },
        "id": "e8iHV2lTQ4J5",
        "outputId": "908d7157-e0fc-402c-a791-011d2ba3c4ba"
      },
      "execution_count": null,
      "outputs": [
        {
          "output_type": "stream",
          "name": "stdout",
          "text": [
            "4\n",
            "1\n",
            "3\n",
            "4\n",
            "1\n",
            "2\n",
            "0\n"
          ]
        }
      ]
    },
    {
      "cell_type": "markdown",
      "source": [
        "条件式がFALSEを返す可能性はあるか"
      ],
      "metadata": {
        "id": "nNQXp-KrRmI2"
      }
    },
    {
      "cell_type": "code",
      "source": [
        "import random\n",
        "num = random.randint(0,6)\n",
        "\n",
        "while num == 5:\n",
        "    num = random.randint(0,6)\n",
        "    print(num)"
      ],
      "metadata": {
        "id": "FJ4IMJVfRnTL"
      },
      "execution_count": null,
      "outputs": []
    },
    {
      "cell_type": "code",
      "source": [
        "#ランダムな整数を利用するため、記述が必要です。\n",
        "import random\n",
        "\n",
        "# 変数numに0~4までのランダムな整数を代入する\n",
        "num = random.randint(0, 4)\n",
        "\n",
        "# カウンタ変数を用意する\n",
        "i = 1\n",
        "\n",
        "# 変数numの最初の値を出力する（確認用）\n",
        "print(f\"最初の値は{num}です。\")\n",
        "\n",
        "# 変数numの値が0以外である間、変数numの値を出力し続ける\n",
        "while num != 0:\n",
        "    # 変数numに0~4までのランダムな整数を代入する\n",
        "    num = random.randint(0, 4)\n",
        "\n",
        "    # カウンタ変数iの値が5であれば、break文で繰り返し処理を強制終了する\n",
        "    if i == 5:\n",
        "        print(\"5回目なので繰り返し処理を強制終了します。\")\n",
        "        break\n",
        "\n",
        "    # 次の条件式で比較される、変数numの現在の値を出力する\n",
        "    print(f\"現在の値は{num}です。\")\n",
        "    #　カウンタ変数のの値を1増やす\n",
        "    i = i + 1"
      ],
      "metadata": {
        "colab": {
          "base_uri": "https://localhost:8080/"
        },
        "id": "7vNk-aYrdh9x",
        "outputId": "8aa844a1-d7d8-4520-caf5-0db6d1539b88"
      },
      "execution_count": null,
      "outputs": [
        {
          "output_type": "stream",
          "name": "stdout",
          "text": [
            "最初の値は4です。\n",
            "現在の値は1です。\n",
            "現在の値は4です。\n",
            "現在の値は3です。\n",
            "現在の値は4です。\n",
            "5回目なので繰り返し処理を強制終了します。\n"
          ]
        }
      ]
    },
    {
      "cell_type": "code",
      "source": [
        "#ランダムな整数を利用するため、記述が必要です。\n",
        "import random\n",
        "\n",
        "# 合計用の変数を用意する\n",
        "sum = 0\n",
        "\n",
        "# 変数sumの値が20以上になるまで繰り返し処理を行う\n",
        "while sum < 20:\n",
        "    # 変数numに1~10までのランダムな整数を代入する\n",
        "    num = random.randint(1, 10)\n",
        "\n",
        "    print(f\"{num}が出ました。\")\n",
        "\n",
        "    # 変数numの値が偶数（2で割った余りが0）であれば、加算せずにcontinue文で次のループに進む\n",
        "    if num % 2 == 0:\n",
        "        print(\"偶数なので加算しません。\")\n",
        "        continue\n",
        "\n",
        "    # 変数sumに変数numの値を加算する\n",
        "    sum = sum + num\n",
        "    print(f\"現在の合計は{sum}です。\")"
      ],
      "metadata": {
        "colab": {
          "base_uri": "https://localhost:8080/"
        },
        "id": "dGs_SHnGh1jg",
        "outputId": "2c35c6cb-9ad5-42a3-db37-a28dd19d5918"
      },
      "execution_count": null,
      "outputs": [
        {
          "output_type": "stream",
          "name": "stdout",
          "text": [
            "10が出ました。\n",
            "偶数なので加算しません。\n",
            "3が出ました。\n",
            "現在の合計は3です。\n",
            "7が出ました。\n",
            "現在の合計は10です。\n",
            "3が出ました。\n",
            "現在の合計は13です。\n",
            "6が出ました。\n",
            "偶数なので加算しません。\n",
            "5が出ました。\n",
            "現在の合計は18です。\n",
            "1が出ました。\n",
            "現在の合計は19です。\n",
            "7が出ました。\n",
            "現在の合計は26です。\n"
          ]
        }
      ]
    },
    {
      "cell_type": "code",
      "source": [
        "user_names = [\"侍太郎\", \"侍一郎\", \"侍二郎\", \"侍三郎\", \"侍四郎\"]\n",
        "\n",
        "# 配列user_namesの要素を1つずつ順番に出力する\n",
        "for user_name in user_names:\n",
        "    print(user_name)"
      ],
      "metadata": {
        "colab": {
          "base_uri": "https://localhost:8080/"
        },
        "id": "elzpR0H0hr1T",
        "outputId": "c50bef30-d9d8-4d3e-9b9e-e350869388ed"
      },
      "execution_count": null,
      "outputs": [
        {
          "output_type": "stream",
          "name": "stdout",
          "text": [
            "侍太郎\n",
            "侍一郎\n",
            "侍二郎\n",
            "侍三郎\n",
            "侍四郎\n"
          ]
        }
      ]
    },
    {
      "cell_type": "code",
      "source": [
        "personal_data = {\"name\": \"侍太郎\", \"age\": 36, \"gender\": \"男性\"}\n",
        "\n",
        "for key, value in personal_data.items():\n",
        "    print(f\"{key}は{value}です。\")"
      ],
      "metadata": {
        "colab": {
          "base_uri": "https://localhost:8080/"
        },
        "id": "FsjoBq2viZjL",
        "outputId": "a4fec83e-a8b5-4511-96be-03111722ea20"
      },
      "execution_count": null,
      "outputs": [
        {
          "output_type": "stream",
          "name": "stdout",
          "text": [
            "nameは侍太郎です。\n",
            "ageは36です。\n",
            "genderは男性です。\n"
          ]
        }
      ]
    },
    {
      "cell_type": "code",
      "source": [
        "personal_data = {\"name\": \"侍太郎\", \"age\": 36, \"gender\": \"男性\"}\n",
        "\n",
        "for a, b in personal_data.items():\n",
        "    print(f\"{a}は{b}です。\")"
      ],
      "metadata": {
        "colab": {
          "base_uri": "https://localhost:8080/"
        },
        "id": "0y4yFF79ibyn",
        "outputId": "42969e2e-f0ef-4c94-d85d-4e9f82188cca"
      },
      "execution_count": null,
      "outputs": [
        {
          "output_type": "stream",
          "name": "stdout",
          "text": [
            "nameは侍太郎です。\n",
            "ageは36です。\n",
            "genderは男性です。\n"
          ]
        }
      ]
    },
    {
      "cell_type": "code",
      "source": [
        "personal_data = {\"name\": \"侍太郎\", \"age\": 36, \"gender\": \"男性\"}\n",
        "\n",
        "# 連想配列personal_dataのキーと値を1つずつ順番に出力する\n",
        "for key, value in personal_data.items():\n",
        "    print(f\"{key}は{value}です。\")\n",
        "\n",
        "# 連想配列personal_dataの値を1つずつ順番に出力する\n",
        "for value in personal_data.values():\n",
        "    print(value)"
      ],
      "metadata": {
        "colab": {
          "base_uri": "https://localhost:8080/"
        },
        "id": "Bj7AmPuyi5Zr",
        "outputId": "90ee80f1-3bfc-4981-b083-fe949e09362b"
      },
      "execution_count": null,
      "outputs": [
        {
          "output_type": "stream",
          "name": "stdout",
          "text": [
            "nameは侍太郎です。\n",
            "ageは36です。\n",
            "genderは男性です。\n",
            "侍太郎\n",
            "36\n",
            "男性\n"
          ]
        }
      ]
    },
    {
      "cell_type": "code",
      "source": [
        "#.items()：辞書からキーと値をセットで取り出す関数\n",
        "#キーを取り出さずに値だけを取り出したいときは、以下のようにkeyを省略し、values関数を利用することで実現できます。\n",
        "#enumerate関数を利用することで値だけでなくインデックスを取り出すことができます。"
      ],
      "metadata": {
        "id": "Nk4e6_vwjFiu"
      },
      "execution_count": null,
      "outputs": []
    },
    {
      "cell_type": "code",
      "source": [
        "user_names = [\"侍太郎\", \"侍一郎\", \"侍二郎\", \"侍三郎\", \"侍四郎\"]\n",
        "\n",
        "# 配列user_namesのインデックスと値を1つずつ順番に出力する\n",
        "for index, value in enumerate(user_names):\n",
        "    print(f\"{index} : {value}\")"
      ],
      "metadata": {
        "colab": {
          "base_uri": "https://localhost:8080/"
        },
        "id": "mLqEzyAqjD6a",
        "outputId": "60bf79c5-6af3-4f05-8c37-659c1a020df3"
      },
      "execution_count": null,
      "outputs": [
        {
          "output_type": "stream",
          "name": "stdout",
          "text": [
            "0 : 侍太郎\n",
            "1 : 侍一郎\n",
            "2 : 侍二郎\n",
            "3 : 侍三郎\n",
            "4 : 侍四郎\n"
          ]
        }
      ]
    },
    {
      "cell_type": "code",
      "source": [
        "user_names = [\"侍太郎\", \"侍一郎\", \"侍二郎\", \"侍三郎\", \"侍四郎\"]\n",
        "\n",
        "# 検索したいユーザー名を代入する変数\n",
        "target = \"侍二郎\"\n",
        "\n",
        "for user_name in user_names:\n",
        "    print(user_name)\n",
        "\n",
        "    # 変数user_nameと変数targetの値が一致すれば、break文で繰り返し処理を強制終了する\n",
        "    if (user_name == target):\n",
        "        print(f\"{target}さんが見つかったので、繰り返し処理を強制終了します。\")\n",
        "        break"
      ],
      "metadata": {
        "colab": {
          "base_uri": "https://localhost:8080/"
        },
        "id": "5kSGycZrjitG",
        "outputId": "e57beb32-ad43-47bf-f005-53280e04d73c"
      },
      "execution_count": null,
      "outputs": [
        {
          "output_type": "stream",
          "name": "stdout",
          "text": [
            "侍太郎\n",
            "侍一郎\n",
            "侍二郎\n",
            "侍二郎さんが見つかったので、繰り返し処理を強制終了します。\n"
          ]
        }
      ]
    },
    {
      "cell_type": "code",
      "source": [
        "score = {\n",
        "    \"国語\": 80,\n",
        "    \"数学\": 55,\n",
        "    \"理科\": 70,\n",
        "    \"社会\": 85,\n",
        "    \"英語\": 60\n",
        "}\n",
        "\n",
        "print(\"合格した科目は以下のとおりです。\")\n",
        "\n",
        "for key, value in score.items():\n",
        "    # 変数valueの値（点数）が70より小さければ、キー（科目名）と値（点数）を出力せずにcontinue文で次のループに進む\n",
        "    if (value < 70):\n",
        "        continue\n",
        "    print(f\"{key} : {value}点\")"
      ],
      "metadata": {
        "colab": {
          "base_uri": "https://localhost:8080/"
        },
        "id": "YikY3GXtjk9u",
        "outputId": "56b99209-e5b2-4d64-b9bc-5aa173da212a"
      },
      "execution_count": null,
      "outputs": [
        {
          "output_type": "stream",
          "name": "stdout",
          "text": [
            "合格した科目は以下のとおりです。\n",
            "国語 : 80点\n",
            "理科 : 70点\n",
            "社会 : 85点\n"
          ]
        }
      ]
    },
    {
      "cell_type": "code",
      "source": [
        "arrays = [\"水\",\"金\",\"地\",\"火\",\"木\",\"土\",\"天\",\"海\",\"冥\"]\n",
        "i=1\n",
        "for value in arrays:\n",
        "    print(value)\n",
        "\n",
        "    if(i==18):\n",
        "       break\n",
        "\n",
        "    i=i+1"
      ],
      "metadata": {
        "colab": {
          "base_uri": "https://localhost:8080/"
        },
        "id": "mE3wHXZdmQ1n",
        "outputId": "a7e39214-ea29-4461-927c-c2fc1b53eb66"
      },
      "execution_count": null,
      "outputs": [
        {
          "output_type": "stream",
          "name": "stdout",
          "text": [
            "水\n",
            "金\n",
            "地\n",
            "火\n",
            "木\n",
            "土\n",
            "天\n",
            "海\n",
            "冥\n"
          ]
        }
      ]
    },
    {
      "cell_type": "code",
      "source": [
        "arrays = [\"水\",\"金\",\"地\",\"火\",\"木\",\"土\",\"天\",\"海\",\"冥\"]\n",
        "for value in range(2):\n",
        "  #range(2)は個数として繰り返しの指示になっていた。\n",
        "  for value in arrays:\n",
        "    print(value)\n"
      ],
      "metadata": {
        "colab": {
          "base_uri": "https://localhost:8080/"
        },
        "id": "gCDtKT9Bn-wa",
        "outputId": "5df67efe-e560-4055-f4e4-f7ca34616e14"
      },
      "execution_count": null,
      "outputs": [
        {
          "output_type": "stream",
          "name": "stdout",
          "text": [
            "水\n",
            "金\n",
            "地\n",
            "火\n",
            "木\n",
            "土\n",
            "天\n",
            "海\n",
            "冥\n",
            "水\n",
            "金\n",
            "地\n",
            "火\n",
            "木\n",
            "土\n",
            "天\n",
            "海\n",
            "冥\n"
          ]
        }
      ]
    },
    {
      "cell_type": "code",
      "source": [
        "arrays = [\"水\",\"金\",\"地\",\"火\",\"木\",\"土\",\"天\",\"海\",\"冥\"]\n",
        "\n",
        "i=1\n",
        "while i != 19:\n",
        "  for value in arrays:\n",
        "    if(i==19):\n",
        "      break\n",
        "    print(value)\n",
        "    i = i + 1"
      ],
      "metadata": {
        "colab": {
          "base_uri": "https://localhost:8080/"
        },
        "id": "4fNbkTRlH1LP",
        "outputId": "85832c67-3ebd-4c29-bae1-c1f0ce62d36e"
      },
      "execution_count": 1,
      "outputs": [
        {
          "output_type": "stream",
          "name": "stdout",
          "text": [
            "水\n",
            "金\n",
            "地\n",
            "火\n",
            "木\n",
            "土\n",
            "天\n",
            "海\n",
            "冥\n",
            "水\n",
            "金\n",
            "地\n",
            "火\n",
            "木\n",
            "土\n",
            "天\n",
            "海\n",
            "冥\n"
          ]
        }
      ]
    },
    {
      "cell_type": "code",
      "source": [
        "arrays = [\"水\",\"金\",\"地\",\"火\",\"木\",\"土\",\"天\",\"海\",\"冥\"]\n",
        "\n",
        "i=1\n",
        "while i != 28:\n",
        "  for value in arrays:\n",
        "    print(value)\n",
        "    i = i + 1"
      ],
      "metadata": {
        "colab": {
          "base_uri": "https://localhost:8080/"
        },
        "id": "ImUFToPBPSem",
        "outputId": "17bf0d5a-d55b-48d6-ca30-f240915f488d"
      },
      "execution_count": 7,
      "outputs": [
        {
          "output_type": "stream",
          "name": "stdout",
          "text": [
            "水\n",
            "金\n",
            "地\n",
            "火\n",
            "木\n",
            "土\n",
            "天\n",
            "海\n",
            "冥\n",
            "水\n",
            "金\n",
            "地\n",
            "火\n",
            "木\n",
            "土\n",
            "天\n",
            "海\n",
            "冥\n",
            "水\n",
            "金\n",
            "地\n",
            "火\n",
            "木\n",
            "土\n",
            "天\n",
            "海\n",
            "冥\n"
          ]
        }
      ]
    },
    {
      "cell_type": "code",
      "source": [],
      "metadata": {
        "id": "3aRjWLSgN7pY"
      },
      "execution_count": null,
      "outputs": []
    },
    {
      "cell_type": "code",
      "source": [
        "arrays = [\"水\",\"金\",\"地\",\"火\",\"木\",\"土\",\"天\",\"海\",\"冥\"]\n",
        "\n",
        "for i in arrays:\n",
        "  print(i)\n",
        "\n",
        "i=0\n",
        "while i<=8:\n",
        "  print(arrays[i])\n",
        "  i=i+1\n",
        "\n"
      ],
      "metadata": {
        "colab": {
          "base_uri": "https://localhost:8080/"
        },
        "id": "B63fLnurCFWB",
        "outputId": "5e5167f7-b82a-4df7-cafa-5266e6d73f9a"
      },
      "execution_count": 2,
      "outputs": [
        {
          "output_type": "stream",
          "name": "stdout",
          "text": [
            "水\n",
            "金\n",
            "地\n",
            "火\n",
            "木\n",
            "土\n",
            "天\n",
            "海\n",
            "冥\n",
            "水\n",
            "金\n",
            "地\n",
            "火\n",
            "木\n",
            "土\n",
            "天\n",
            "海\n"
          ]
        }
      ]
    },
    {
      "cell_type": "code",
      "source": [
        "\n",
        "# 関数の作り方\n",
        "def 関数名():\n",
        "    一連の処理\n",
        "\n",
        "# 関数の呼び出し方\n",
        "関数名()"
      ],
      "metadata": {
        "id": "z2DMOpdYVpGv"
      },
      "execution_count": null,
      "outputs": []
    },
    {
      "cell_type": "code",
      "source": [
        "# 与えられた引数$priceに送料を加算し、その値を出力する関数を定義する\n",
        "def calculate_total(price):\n",
        "    # 与えられた引数priceに送料を加算し、変数totalに代入する\n",
        "    total = price + 500\n",
        "\n",
        "    # 変数totalの値を出力する\n",
        "    print(f\"{total}円\")\n",
        "\n",
        "# 関数を呼び出し、引数として購入金額を渡す\n",
        "calculate_total(1200)"
      ],
      "metadata": {
        "id": "CPVoZ-hmccQe",
        "colab": {
          "base_uri": "https://localhost:8080/"
        },
        "outputId": "3e6c816c-d073-464c-e7be-e1d976b332b3"
      },
      "execution_count": 26,
      "outputs": [
        {
          "output_type": "stream",
          "name": "stdout",
          "text": [
            "1700円\n"
          ]
        }
      ]
    },
    {
      "cell_type": "code",
      "source": [
        "def add_two_arguments(price, shipping_fee):\n",
        "    # 与えられた引数priceと引数shipping_feeを加算し、変数totalに代入する\n",
        "    total = price + shipping_fee\n",
        "\n",
        "    # 変数$totalの値を出力する\n",
        "    print(f\"{total}円\")\n",
        "\n",
        "# 関数を呼び出し、引数として購入金額と送料を渡す\n",
        "add_two_arguments(1200, 500)"
      ],
      "metadata": {
        "colab": {
          "base_uri": "https://localhost:8080/"
        },
        "id": "3YKbF0y3cgU1",
        "outputId": "349fac19-7da4-4d97-9ad1-a8db089d134f"
      },
      "execution_count": null,
      "outputs": [
        {
          "output_type": "stream",
          "name": "stdout",
          "text": [
            "1700円\n"
          ]
        }
      ]
    },
    {
      "cell_type": "code",
      "source": [
        "def x_y_z_w(a,b,c):\n",
        "    sum=a+b+c\n",
        "    print(sum)\n",
        "\n",
        "x_y_z_w(1000,100,10)\n"
      ],
      "metadata": {
        "colab": {
          "base_uri": "https://localhost:8080/"
        },
        "id": "pd6TH9Tlcocb",
        "outputId": "7342efac-ff63-4db9-fc54-c1ba2cfc8d9d"
      },
      "execution_count": null,
      "outputs": [
        {
          "output_type": "stream",
          "name": "stdout",
          "text": [
            "1110\n"
          ]
        }
      ]
    },
    {
      "cell_type": "code",
      "source": [
        "# 商品が購入されたかどうかチェックする関数\n",
        "# 購入済みかどうかを判定する変数\n",
        "purchased = True\n",
        "\n",
        "# 戻り値を返す関数を定義する\n",
        "def is_purchased():\n",
        "    if (purchased):\n",
        "        return True\n",
        "    else:\n",
        "        return False\n",
        "\n",
        "# 戻り値を返す関数を条件式に使う（Trueであれば処理が実行される）\n",
        "if (is_purchased()):\n",
        "    print(\"商品は購入済みです。\")"
      ],
      "metadata": {
        "colab": {
          "base_uri": "https://localhost:8080/"
        },
        "id": "rjSeLZaKmj_D",
        "outputId": "babe792c-f151-4142-bce3-28c69329804a"
      },
      "execution_count": null,
      "outputs": [
        {
          "output_type": "stream",
          "name": "stdout",
          "text": [
            "商品は購入済みです。\n"
          ]
        }
      ]
    },
    {
      "cell_type": "code",
      "source": [
        "def double(num: int):\n",
        "    return num * 2\n",
        "\n",
        "double(10)"
      ],
      "metadata": {
        "colab": {
          "base_uri": "https://localhost:8080/"
        },
        "id": "Wvm8fOe594zc",
        "outputId": "ef4d9e37-df0d-4f7b-c392-5469e34aaa20"
      },
      "execution_count": null,
      "outputs": [
        {
          "output_type": "execute_result",
          "data": {
            "text/plain": [
              "20"
            ]
          },
          "metadata": {},
          "execution_count": 45
        }
      ]
    },
    {
      "cell_type": "markdown",
      "source": [
        "商品を購入して、消費税を加えた計算結果を返す関数を記述してください。\n",
        "第1引数に商品の金額、第2引数に消費税（10%）を設定できるようにしてください。\n",
        "番号\t合格基準\n",
        "1\t「課題の内容」の仕様通りの関数が定義されている\n",
        "2\t定義した関数を呼び出し、使用されている"
      ],
      "metadata": {
        "id": "M4b0htRW0c1T"
      }
    },
    {
      "cell_type": "code",
      "source": [
        "def calculate_totalprice(product)\n",
        "  totalprice=product+product*0.1\n",
        "  print(f\"{totalprice}円です\")\n",
        "\n",
        "calculate_totalprice(1000)\n"
      ],
      "metadata": {
        "colab": {
          "base_uri": "https://localhost:8080/"
        },
        "id": "GlllY8l20cMJ",
        "outputId": "5fb1a578-1df6-4bf8-b818-6c48c6155c36"
      },
      "execution_count": null,
      "outputs": [
        {
          "output_type": "stream",
          "name": "stdout",
          "text": [
            "1100.0円です\n"
          ]
        }
      ]
    },
    {
      "cell_type": "markdown",
      "source": [
        "計算結果を返す関数\n",
        "⇨戻り値を使用して実装してください\n",
        "\n",
        "第1引数に商品の金額、第2引数に消費税（10%）を設定\n",
        "⇨引数に消費税を指定してください"
      ],
      "metadata": {
        "id": "3crgE5i79f4V"
      }
    },
    {
      "cell_type": "code",
      "source": [
        "def calculate_totalprice(product,tax):\n",
        "  return product+product*tax\n",
        "\n",
        "\n",
        "print(calculate_totalprice(1000,0.1))\n"
      ],
      "metadata": {
        "colab": {
          "base_uri": "https://localhost:8080/"
        },
        "id": "8sJebe1P2W09",
        "outputId": "b9dccd19-51f3-4520-8a0e-1aa256e06e21"
      },
      "execution_count": 9,
      "outputs": [
        {
          "output_type": "stream",
          "name": "stdout",
          "text": [
            "1100.0\n"
          ]
        }
      ]
    },
    {
      "cell_type": "code",
      "source": [],
      "metadata": {
        "id": "2NTHljLs_3zm"
      },
      "execution_count": null,
      "outputs": []
    },
    {
      "cell_type": "code",
      "source": [],
      "metadata": {
        "id": "Gni-W8Xi_3f4"
      },
      "execution_count": null,
      "outputs": []
    },
    {
      "cell_type": "code",
      "source": [
        "def show_user_name():\n",
        "    # ローカル変数を定義する\n",
        "    user_name = \"侍太郎\"\n",
        "\n",
        "    # ローカルスコープの範囲内でローカル変数を使う\n",
        "    print(user_name)\n",
        "\n",
        "show_user_name()"
      ],
      "metadata": {
        "id": "B-A78OdHA3db",
        "colab": {
          "base_uri": "https://localhost:8080/"
        },
        "outputId": "4616a748-007a-43b2-95cb-49d28e9a2c4b"
      },
      "execution_count": 1,
      "outputs": [
        {
          "output_type": "stream",
          "name": "stdout",
          "text": [
            "侍太郎\n"
          ]
        }
      ]
    },
    {
      "cell_type": "code",
      "source": [
        "# グローバル変数を定義する\n",
        "user_name = \"侍花子\"\n",
        "\n",
        "def show_user_name():\n",
        "    # ローカル変数を定義する\n",
        "    user_name = \"侍太郎\"\n",
        "\n",
        "    # ローカルスコープの範囲内でローカル変数を使う\n",
        "    print(user_name)\n",
        "\n",
        "show_user_name()\n",
        "\n",
        "# グローバルスコープの範囲内でグローバル変数を使う\n",
        "print(user_name)"
      ],
      "metadata": {
        "id": "y4sjpScbBmn6",
        "colab": {
          "base_uri": "https://localhost:8080/"
        },
        "outputId": "e8000698-0096-4dae-990a-38cd807ed16f"
      },
      "execution_count": 2,
      "outputs": [
        {
          "output_type": "stream",
          "name": "stdout",
          "text": [
            "侍太郎\n",
            "侍花子\n"
          ]
        }
      ]
    },
    {
      "cell_type": "markdown",
      "source": [
        "以下のコードを実行するとスコープに関するエラーが発生します。エラーを修正して、正しく計算結果が出力されるようにしてください。\n",
        "\n",
        "番号\t合格基準\n",
        "1\tグローバルスコープとローカルスコープを意識したプログラムが記述されている"
      ],
      "metadata": {
        "id": "m0FcmWA5DCRF"
      }
    },
    {
      "cell_type": "code",
      "source": [
        "price1 = 100\n",
        "price2 = 200\n",
        "\n",
        "def total():\n",
        "    tax = 1.1\n",
        "    return price1 + price2\n",
        "\n",
        "print (total() * tax)\n"
      ],
      "metadata": {
        "id": "B77SIfRLC4dc",
        "colab": {
          "base_uri": "https://localhost:8080/",
          "height": 182
        },
        "outputId": "1860e7be-0ff7-4c3c-a92e-7024ab0622fc"
      },
      "execution_count": 3,
      "outputs": [
        {
          "output_type": "error",
          "ename": "NameError",
          "evalue": "name 'tax' is not defined",
          "traceback": [
            "\u001b[0;31m---------------------------------------------------------------------------\u001b[0m",
            "\u001b[0;31mNameError\u001b[0m                                 Traceback (most recent call last)",
            "\u001b[0;32m<ipython-input-3-97afaf5fb70f>\u001b[0m in \u001b[0;36m<cell line: 8>\u001b[0;34m()\u001b[0m\n\u001b[1;32m      6\u001b[0m     \u001b[0;32mreturn\u001b[0m \u001b[0mprice1\u001b[0m \u001b[0;34m+\u001b[0m \u001b[0mprice2\u001b[0m\u001b[0;34m\u001b[0m\u001b[0;34m\u001b[0m\u001b[0m\n\u001b[1;32m      7\u001b[0m \u001b[0;34m\u001b[0m\u001b[0m\n\u001b[0;32m----> 8\u001b[0;31m \u001b[0mprint\u001b[0m \u001b[0;34m(\u001b[0m\u001b[0mtotal\u001b[0m\u001b[0;34m(\u001b[0m\u001b[0;34m)\u001b[0m \u001b[0;34m*\u001b[0m \u001b[0mtax\u001b[0m\u001b[0;34m)\u001b[0m\u001b[0;34m\u001b[0m\u001b[0;34m\u001b[0m\u001b[0m\n\u001b[0m",
            "\u001b[0;31mNameError\u001b[0m: name 'tax' is not defined"
          ]
        }
      ]
    },
    {
      "cell_type": "code",
      "source": [
        "price1 = 100\n",
        "price2 = 200\n",
        "tax = 1.1\n",
        "\n",
        "def total():\n",
        "    return price1 + price2\n",
        "\n",
        "print (total() * tax)"
      ],
      "metadata": {
        "colab": {
          "base_uri": "https://localhost:8080/"
        },
        "id": "3K_U72cRDHGy",
        "outputId": "e6c921a6-93ea-4b33-bb70-fece64159e7d"
      },
      "execution_count": null,
      "outputs": [
        {
          "output_type": "stream",
          "name": "stdout",
          "text": [
            "330.0\n"
          ]
        }
      ]
    },
    {
      "cell_type": "code",
      "source": [],
      "metadata": {
        "id": "atys0ivIAODG"
      },
      "execution_count": null,
      "outputs": []
    },
    {
      "cell_type": "code",
      "source": [],
      "metadata": {
        "id": "41vcyaYVANtF"
      },
      "execution_count": null,
      "outputs": []
    },
    {
      "cell_type": "code",
      "source": [
        "# クラスを定義する\n",
        "class Product:\n",
        "    クラスの特徴\n",
        "\n",
        "# インスタンス化する\n",
        "shampoo = Product()\n"
      ],
      "metadata": {
        "id": "YOokoDgMEkU2"
      },
      "execution_count": null,
      "outputs": []
    },
    {
      "cell_type": "code",
      "source": [
        "class Product:\n",
        "    def __init__(self):\n",
        "        # 属性を定義する\n",
        "        self.name = \"\"\n",
        "\n",
        "shampoo = Product()\n",
        "\n",
        "# 属性にアクセスし、値を代入する\n",
        "shampoo.name = \"シャンプー\"\n",
        "\n",
        "# 属性にアクセスし、値を出力する\n",
        "print(shampoo.name)\n"
      ],
      "metadata": {
        "id": "r0CBU--cF0Lq",
        "colab": {
          "base_uri": "https://localhost:8080/"
        },
        "outputId": "438f6379-fd6f-4c5d-ff11-bdf4edd1eb0e"
      },
      "execution_count": 11,
      "outputs": [
        {
          "output_type": "stream",
          "name": "stdout",
          "text": [
            "シャンプー\n"
          ]
        }
      ]
    },
    {
      "cell_type": "code",
      "source": [
        "class Product:\n",
        "    def __init__(self):\n",
        "        self.name = \"\"\n",
        "\n",
        "    # メソッドを定義する\n",
        "    def set_name(self, name):\n",
        "        self.name = name\n",
        "\n",
        "shampoo = Product()\n",
        "\n",
        "# メソッドにアクセスして実行する\n",
        "shampoo.set_name(\"シャンプー\")\n"
      ],
      "metadata": {
        "id": "JVckoGrlGT8G"
      },
      "execution_count": 2,
      "outputs": []
    },
    {
      "cell_type": "code",
      "source": [
        "class Product:\n",
        "    def __init__(self):\n",
        "        self.name = \"\"\n",
        "\n",
        "    # メソッドを定義する\n",
        "    def set_name(self, name):\n",
        "        self.name = name\n",
        "\n",
        "    def show_name(self):\n",
        "        print(self.name)\n",
        "\n",
        "# インスタンス化する\n",
        "coffee = Product()\n",
        "\n",
        "# メソッドにアクセスして実行する\n",
        "coffee.set_name(\"コーヒー\")\n",
        "coffee.show_name()"
      ],
      "metadata": {
        "id": "R9ie0j7iGlGL",
        "colab": {
          "base_uri": "https://localhost:8080/"
        },
        "outputId": "4a10406c-fbdb-45bb-d916-9cd9ee3f7f5c"
      },
      "execution_count": 9,
      "outputs": [
        {
          "output_type": "stream",
          "name": "stdout",
          "text": [
            "コーヒー\n"
          ]
        }
      ]
    },
    {
      "cell_type": "code",
      "source": [
        "class Product:\n",
        "    def __init__(self):\n",
        "        self.name = \"\"\n",
        "\n",
        "    # メソッドを定義する\n",
        "    def set_info(self, age):\n",
        "        self.age = age\n",
        "        print(self.age)\n",
        "\n",
        "\n",
        "# インスタンス化する\n",
        "coffee = Product()\n",
        "\n",
        "#属性にアクセスする\n",
        "coffee.name=\"小岩井のコーヒー\"\n",
        "print(coffee.name)\n",
        "\n",
        "# メソッドにアクセスして実行する\n",
        "coffee.set_info(\"販売してから45年\")\n"
      ],
      "metadata": {
        "colab": {
          "base_uri": "https://localhost:8080/"
        },
        "id": "ieC892GvKjtu",
        "outputId": "845e4259-ff1c-4340-86f9-a66fb92065cf"
      },
      "execution_count": 24,
      "outputs": [
        {
          "output_type": "stream",
          "name": "stdout",
          "text": [
            "小岩井のコーヒー\n",
            "販売してから45年\n"
          ]
        }
      ]
    },
    {
      "cell_type": "code",
      "source": [
        "class Product:\n",
        "    def __init__(drink):\n",
        "        drink.name = \"\"\n",
        "\n",
        "    # メソッドを定義する\n",
        "    def set_name(drink, name):\n",
        "        drink.name = name\n",
        "\n",
        "    def show_name(drink):\n",
        "        print(drink.name)\n",
        "\n",
        "# インスタンス化する\n",
        "coffee = Product()\n",
        "\n",
        "#属性にアクセスする\n",
        "coffee.name=\"カフェ\"\n",
        "print(coffee.name)\n",
        "\n",
        "# メソッドにアクセスして実行する\n",
        "coffee.set_name(\"コーヒー\")\n",
        "coffee.show_name()"
      ],
      "metadata": {
        "colab": {
          "base_uri": "https://localhost:8080/"
        },
        "id": "vqFW_9mGLqU4",
        "outputId": "5827e5a4-c3fc-4ed0-fc2d-db1e037b5863"
      },
      "execution_count": 21,
      "outputs": [
        {
          "output_type": "stream",
          "name": "stdout",
          "text": [
            "カフェ\n",
            "コーヒー\n"
          ]
        }
      ]
    },
    {
      "cell_type": "code",
      "source": [
        "class User:\n",
        "    # コンストラクタを定義する\n",
        "    def __init__(self, name, age, gender):\n",
        "        self.name = name\n",
        "        self.age = age\n",
        "        self.gender = gender\n",
        "\n",
        "# インスタンス化する\n",
        "user = User(\"侍太郎\", 36, \"男性\")\n",
        "\n",
        "# 属性にアクセスし、値を出力する\n",
        "print(user.name)\n",
        "print(user.age)\n",
        "print(user.gender)"
      ],
      "metadata": {
        "id": "HlKzs3ykJFOS",
        "colab": {
          "base_uri": "https://localhost:8080/",
          "height": 110
        },
        "outputId": "9549f85f-3a8c-4b56-d8ff-209235f695ef"
      },
      "execution_count": 10,
      "outputs": [
        {
          "output_type": "error",
          "ename": "IndentationError",
          "evalue": "expected an indented block after function definition on line 3 (<ipython-input-10-f2949f6a4852>, line 7)",
          "traceback": [
            "\u001b[0;36m  File \u001b[0;32m\"<ipython-input-10-f2949f6a4852>\"\u001b[0;36m, line \u001b[0;32m7\u001b[0m\n\u001b[0;31m    user = User(\"侍太郎\", 36, \"男性\")\u001b[0m\n\u001b[0m                                ^\u001b[0m\n\u001b[0;31mIndentationError\u001b[0m\u001b[0;31m:\u001b[0m expected an indented block after function definition on line 3\n"
          ]
        }
      ]
    },
    {
      "cell_type": "code",
      "source": [
        "# クラスの定義（例：class Product: ...... ）\n",
        "class クラス名:\n",
        "    # コンストラクタの定義\n",
        "    def __init__(self):\n",
        "        初期化の内容\n",
        "\n",
        "    # メソッドの定義（例：public show_name(): ...... ）\n",
        "    def メソッド名():\n",
        "        一連の処理\n",
        "\n",
        "# インスタンス化（例：shampoo = Product()）\n",
        "インスタンス名 = クラス名()\n",
        "\n",
        "# 属性へのアクセス（例：shampoo.name）\n",
        "インスタンス名.属性名\n",
        "\n",
        "# メソッドへのアクセス（例：shampoo.show_name()）\n",
        "インスタンス名.メソッド名()\n"
      ],
      "metadata": {
        "id": "vnRo4a6JImbl"
      },
      "execution_count": null,
      "outputs": []
    },
    {
      "cell_type": "markdown",
      "source": [
        "名前(name)と年齢(age)の属性を持つHumanクラスを作成してください。\n",
        "nameとageを標準出力(print)するメソッド(printinfo)を追加してください。\n",
        "\n",
        "Humanクラスのインスタンスは、変数に代入してプログラム内で使用してください。\n",
        "\n",
        "番号\t合格基準\n",
        "1\t「課題の内容」の仕様通りのクラスが定義されている\n",
        "2\tHumanクラスのインスタンスが変数に代入されている\n",
        "3\t定義したクラスに属するメソッド(printinfo)を使用し、名前(name)と年齢(age)が出力されている"
      ],
      "metadata": {
        "id": "r3BO1onm-fPm"
      }
    },
    {
      "cell_type": "code",
      "source": [
        "class Human:\n",
        "  # コンストラクタの定義\n",
        "  def __init__(who,name,age):\n",
        "    who.name=name\n",
        "    who.age=age\n",
        "\n",
        "\n",
        "#インスタント化\n",
        "samurai=Human(\"小次郎\",49)\n",
        "\n",
        "print(samurai.name)\n",
        "print(samurai.age)"
      ],
      "metadata": {
        "colab": {
          "base_uri": "https://localhost:8080/"
        },
        "id": "_QketJ7k-czL",
        "outputId": "30e5bfb0-6493-4864-fc6d-9a04e39daf01"
      },
      "execution_count": 12,
      "outputs": [
        {
          "output_type": "stream",
          "name": "stdout",
          "text": [
            "小次郎\n",
            "49\n"
          ]
        }
      ]
    },
    {
      "cell_type": "code",
      "source": [
        "class Human:\n",
        "  def __int__(who):\n",
        "    who.name=\"\"\n",
        "    who.age=\"\"\n",
        "\n",
        "  def printinfo(who,name,age):\n",
        "    who.name=name\n",
        "    who.age=age\n",
        "    print(who,name.age)\n",
        "\n",
        "samurai=Human()\n",
        "\n",
        "samurai.name=\"小次郎\"\n",
        "samurai.age=49\n",
        "\n",
        "samurai.printinfo\n",
        "\n",
        "\n",
        "\n"
      ],
      "metadata": {
        "colab": {
          "base_uri": "https://localhost:8080/",
          "height": 103
        },
        "id": "eVz7Tc5nT1wQ",
        "outputId": "67f93146-a54e-460d-8a1b-e2251f523668"
      },
      "execution_count": 26,
      "outputs": [
        {
          "output_type": "execute_result",
          "data": {
            "text/plain": [
              "<bound method Human.printinfo of <__main__.Human object at 0x79f860de64d0>>"
            ],
            "text/html": [
              "<div style=\"max-width:800px; border: 1px solid var(--colab-border-color);\"><style>\n",
              "      pre.function-repr-contents {\n",
              "        overflow-x: auto;\n",
              "        padding: 8px 12px;\n",
              "        max-height: 500px;\n",
              "      }\n",
              "\n",
              "      pre.function-repr-contents.function-repr-contents-collapsed {\n",
              "        cursor: pointer;\n",
              "        max-height: 100px;\n",
              "      }\n",
              "    </style>\n",
              "    <pre style=\"white-space: initial; background:\n",
              "         var(--colab-secondary-surface-color); padding: 8px 12px;\n",
              "         border-bottom: 1px solid var(--colab-border-color);\"><b>Human.printinfo</b><br/>def printinfo(who, name, age)</pre><pre class=\"function-repr-contents function-repr-contents-collapsed\" style=\"\"><a class=\"filepath\" style=\"display:none\" href=\"#\">/content/&lt;ipython-input-26-905e3e34cca8&gt;</a>&lt;no docstring&gt;</pre></div>"
            ]
          },
          "metadata": {},
          "execution_count": 26
        }
      ]
    },
    {
      "cell_type": "code",
      "source": [
        "class Human:\n",
        "  def __int__(who):\n",
        "    who.name=\"\"\n",
        "    who.age=\"\"\n",
        "\n",
        "  def printinfo(who,name):\n",
        "    who.name=name\n",
        "    print(who.name)\n",
        "  def printinfo(who,age):\n",
        "    who.age=age\n",
        "    print(who.age)\n",
        "\n",
        "samurai=Human()\n",
        "\n",
        "samurai.printinfo(\"小次郎\")\n",
        "samurai.printinfo(49)"
      ],
      "metadata": {
        "id": "lpKIbZHJ5xME",
        "outputId": "a5b4729a-0725-4026-dc7b-874a59cff79e",
        "colab": {
          "base_uri": "https://localhost:8080/"
        }
      },
      "execution_count": 27,
      "outputs": [
        {
          "output_type": "stream",
          "name": "stdout",
          "text": [
            "小次郎\n",
            "49\n"
          ]
        }
      ]
    },
    {
      "cell_type": "code",
      "source": [
        "class Human:\n",
        "    def __init__(self,name,age):\n",
        "        self.name=name\n",
        "        self.age=age\n",
        "\n",
        "    # メソッドを定義する\n",
        "\n",
        "    def printinfo(self):\n",
        "        print(self.name,self.age)\n",
        "\n",
        "# インスタンス化する\n",
        "samurai = Human(\"小次郎\",49)\n",
        "\n",
        "# メソッドにアクセスして実行する\n",
        "samurai.printinfo()"
      ],
      "metadata": {
        "id": "xmCyMiLOCcHh",
        "outputId": "f968bf24-0928-4d32-cf36-458cf3098be6",
        "colab": {
          "base_uri": "https://localhost:8080/"
        }
      },
      "execution_count": 47,
      "outputs": [
        {
          "output_type": "stream",
          "name": "stdout",
          "text": [
            "小次郎 49\n"
          ]
        }
      ]
    }
  ]
}